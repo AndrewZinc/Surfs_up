{
 "cells": [
  {
   "cell_type": "code",
   "execution_count": 22,
   "id": "a765f62a",
   "metadata": {},
   "outputs": [],
   "source": [
    "import sqlalchemy\n",
    "from sqlalchemy import create_engine\n",
    "from sqlalchemy import text\n",
    "from sqlalchemy.orm import Session"
   ]
  },
  {
   "cell_type": "code",
   "execution_count": 23,
   "id": "8a3034d0",
   "metadata": {},
   "outputs": [],
   "source": [
    "engine = create_engine('sqlite+pysqlite:///:memory:', echo=True, future=True)"
   ]
  },
  {
   "cell_type": "code",
   "execution_count": 24,
   "id": "b740da01",
   "metadata": {},
   "outputs": [
    {
     "name": "stdout",
     "output_type": "stream",
     "text": [
      "2022-09-19 18:23:50,036 INFO sqlalchemy.engine.Engine BEGIN (implicit)\n",
      "2022-09-19 18:23:50,036 INFO sqlalchemy.engine.Engine select 'hello world'\n",
      "2022-09-19 18:23:50,052 INFO sqlalchemy.engine.Engine [generated in 0.00093s] ()\n",
      "[('hello world',)]\n",
      "2022-09-19 18:23:50,052 INFO sqlalchemy.engine.Engine ROLLBACK\n"
     ]
    }
   ],
   "source": [
    "with engine.connect() as conn:\n",
    "        result = conn.execute(text(\"select 'hello world'\"))\n",
    "        print(result.all())\n"
   ]
  },
  {
   "cell_type": "code",
   "execution_count": 30,
   "id": "a45ecbf9",
   "metadata": {},
   "outputs": [
    {
     "name": "stdout",
     "output_type": "stream",
     "text": [
      "2022-09-19 18:25:51,035 INFO sqlalchemy.engine.Engine BEGIN (implicit)\n",
      "2022-09-19 18:25:51,035 INFO sqlalchemy.engine.Engine drop table some_table\n",
      "2022-09-19 18:25:51,035 INFO sqlalchemy.engine.Engine [generated in 0.00126s] ()\n",
      "2022-09-19 18:25:51,035 INFO sqlalchemy.engine.Engine CREATE table some_table (x int, y int)\n",
      "2022-09-19 18:25:51,035 INFO sqlalchemy.engine.Engine [cached since 121s ago] ()\n",
      "2022-09-19 18:25:51,035 INFO sqlalchemy.engine.Engine insert into some_table (x, y) values (?, ?)\n",
      "2022-09-19 18:25:51,035 INFO sqlalchemy.engine.Engine [cached since 121s ago] ((1, 1), (2, 4))\n",
      "2022-09-19 18:25:51,035 INFO sqlalchemy.engine.Engine COMMIT\n"
     ]
    }
   ],
   "source": [
    "# Committing transactions as you go...\n",
    "with engine.connect() as conn:\n",
    "    conn.execute(text(\"drop table some_table\"))\n",
    "    conn.execute(text(\"CREATE table some_table (x int, y int)\"))\n",
    "    conn.execute(\n",
    "        text(\"insert into some_table (x, y) values (:x, :y)\"),\n",
    "        [{\"x\": 1, \"y\": 1}, {\"x\": 2, \"y\": 4}]\n",
    "    )\n",
    "    conn.commit()"
   ]
  },
  {
   "cell_type": "code",
   "execution_count": 31,
   "id": "245880e0",
   "metadata": {},
   "outputs": [
    {
     "name": "stdout",
     "output_type": "stream",
     "text": [
      "2022-09-19 18:25:54,575 INFO sqlalchemy.engine.Engine BEGIN (implicit)\n",
      "2022-09-19 18:25:54,575 INFO sqlalchemy.engine.Engine SELECT x, y FROM some_table WHERE y > ? ORDER BY x, y\n",
      "2022-09-19 18:25:54,575 INFO sqlalchemy.engine.Engine [cached since 32.74s ago] (6,)\n",
      "2022-09-19 18:25:54,575 INFO sqlalchemy.engine.Engine ROLLBACK\n"
     ]
    }
   ],
   "source": [
    "# ORM session\n",
    "\n",
    "stmt = text(\"SELECT x, y FROM some_table WHERE y > :y ORDER BY x, y\")\n",
    "with Session(engine) as session:\n",
    "    result = session.execute(stmt, {\"y\": 6})\n",
    "    for row in result:\n",
    "        print(f\"x: {row.x} y: {row.y}\")"
   ]
  },
  {
   "cell_type": "code",
   "execution_count": 36,
   "id": "a9050352",
   "metadata": {},
   "outputs": [],
   "source": [
    "import sqlalchemy\n",
    "from sqlalchemy import create_engine\n",
    "from sqlalchemy import text\n",
    "from sqlalchemy.orm import Session\n",
    "import pandas as pd"
   ]
  },
  {
   "cell_type": "code",
   "execution_count": 37,
   "id": "60476adf",
   "metadata": {},
   "outputs": [],
   "source": [
    "engine = create_engine('sqlite:///C://Users/AZ/Github/~Student_Resources/Module 9/01-Evr_BasicSQL_Connection/Resources/Census_Data.sqlite')"
   ]
  },
  {
   "cell_type": "code",
   "execution_count": 39,
   "id": "5e7e1def",
   "metadata": {},
   "outputs": [
    {
     "ename": "NameError",
     "evalue": "name 'automap' is not defined",
     "output_type": "error",
     "traceback": [
      "\u001b[1;31m---------------------------------------------------------------------------\u001b[0m",
      "\u001b[1;31mNameError\u001b[0m                                 Traceback (most recent call last)",
      "\u001b[1;32mC:\\Temp\\ipykernel_4116\\720893638.py\u001b[0m in \u001b[0;36m<module>\u001b[1;34m\u001b[0m\n\u001b[1;32m----> 1\u001b[1;33m \u001b[0mBase\u001b[0m \u001b[1;33m=\u001b[0m \u001b[0mautomap\u001b[0m\u001b[1;33m.\u001b[0m\u001b[0mbase\u001b[0m\u001b[1;33m(\u001b[0m\u001b[1;33m)\u001b[0m\u001b[1;33m\u001b[0m\u001b[1;33m\u001b[0m\u001b[0m\n\u001b[0m\u001b[0;32m      2\u001b[0m \u001b[0mBase\u001b[0m\u001b[1;33m.\u001b[0m\u001b[0mclasses\u001b[0m\u001b[1;33m.\u001b[0m\u001b[0mkeys\u001b[0m\u001b[1;33m(\u001b[0m\u001b[1;33m)\u001b[0m\u001b[1;33m\u001b[0m\u001b[1;33m\u001b[0m\u001b[0m\n",
      "\u001b[1;31mNameError\u001b[0m: name 'automap' is not defined"
     ]
    }
   ],
   "source": [
    "Base = automap.base()\n",
    "Base.classes.keys()"
   ]
  },
  {
   "cell_type": "code",
   "execution_count": null,
   "id": "f1933922",
   "metadata": {},
   "outputs": [],
   "source": []
  },
  {
   "cell_type": "code",
   "execution_count": null,
   "id": "2b1c4051",
   "metadata": {},
   "outputs": [],
   "source": []
  }
 ],
 "metadata": {
  "kernelspec": {
   "display_name": "Pythondata",
   "language": "python",
   "name": "pythondata"
  },
  "language_info": {
   "codemirror_mode": {
    "name": "ipython",
    "version": 3
   },
   "file_extension": ".py",
   "mimetype": "text/x-python",
   "name": "python",
   "nbconvert_exporter": "python",
   "pygments_lexer": "ipython3",
   "version": "3.7.13"
  }
 },
 "nbformat": 4,
 "nbformat_minor": 5
}
